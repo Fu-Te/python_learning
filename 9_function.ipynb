{
 "cells": [
  {
   "cell_type": "code",
   "execution_count": 2,
   "metadata": {},
   "outputs": [
    {
     "name": "stdout",
     "output_type": "stream",
     "text": [
      "0か1で入力してください．\n",
      "数字で入力してください\n",
      "rice\n"
     ]
    }
   ],
   "source": [
    "def breakfast(bread_or_rice):\n",
    "\tif bread_or_rice == 0:\n",
    "\t\tprint('bread')\n",
    "\telse:\n",
    "\t\tprint('rice')\n",
    "while True:\n",
    "\ttry:\n",
    "\t\tnumber = int(input('パンなら0，ご飯なら1を入力:'))\n",
    "\t\tif number == 0 or number == 1:\n",
    "\t\t\tbreakfast(number)\n",
    "\t\t\tbreak\n",
    "\t\telse:\n",
    "\t\t\tprint('0か1で入力してください．')\n",
    "\texcept:\n",
    "\t\tprint('数字で入力してください')"
   ]
  },
  {
   "cell_type": "code",
   "execution_count": 3,
   "metadata": {},
   "outputs": [
    {
     "name": "stdout",
     "output_type": "stream",
     "text": [
      "1.0\n",
      "10.0\n"
     ]
    }
   ],
   "source": [
    "def triangle(bottom=2,height=1): #bottom=2のようにすると，引数の初期値を持たせることができます．\n",
    "\treturn bottom*height*0.5 #戻り値はreturnの後に記述する．\n",
    "\n",
    "triangle_area1 = triangle() #引数には初期値があるので引数を指定しなくても使える．戻り値をtriangle_area1に入れる\n",
    "print(triangle_area1)\n",
    "\n",
    "triangle_area2 = triangle(10,2)\n",
    "print(triangle_area2)"
   ]
  },
  {
   "cell_type": "code",
   "execution_count": null,
   "metadata": {},
   "outputs": [],
   "source": []
  }
 ],
 "metadata": {
  "interpreter": {
   "hash": "31f2aee4e71d21fbe5cf8b01ff0e069b9275f58929596ceb00d14d90e3e16cd6"
  },
  "kernelspec": {
   "display_name": "Python 3.8.9 64-bit",
   "language": "python",
   "name": "python3"
  },
  "language_info": {
   "codemirror_mode": {
    "name": "ipython",
    "version": 3
   },
   "file_extension": ".py",
   "mimetype": "text/x-python",
   "name": "python",
   "nbconvert_exporter": "python",
   "pygments_lexer": "ipython3",
   "version": "3.8.9"
  },
  "orig_nbformat": 4
 },
 "nbformat": 4,
 "nbformat_minor": 2
}
